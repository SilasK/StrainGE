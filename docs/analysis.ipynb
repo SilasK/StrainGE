{
 "cells": [
  {
   "cell_type": "markdown",
   "id": "0606742b-a38c-41dc-874c-abe4c07aca7e",
   "metadata": {
    "tags": []
   },
   "source": [
    "## Analyze StrainGE output in Python\n",
    "\n",
    "Now that we have run StrainGST and StrainGR (including the compare step), how do we analyze the outputs? This page uses Python and its commonly used data science stack (NumPy, SciPy, Pandas and matplotlib+seaborn) to parse the data, plot the relative abundances of strains over time, and generate an ACNI/gap similarity plot.\n",
    "\n",
    "### Download data\n",
    "\n",
    "We download an archive containing StrainGE outputs part of the vignette described in the paper on the persistence of an *E. coli* strain in the gut of a woman with recurrent urinary tract infections. The extracted data is organized in a `straingst` and `straingr` folder."
   ]
  },
  {
   "cell_type": "code",
   "execution_count": 3,
   "id": "49d4e973-91c0-4a71-a2dd-6f92d3cd0a9c",
   "metadata": {},
   "outputs": [
    {
     "name": "stdout",
     "output_type": "stream",
     "text": [
      "  % Total    % Received % Xferd  Average Speed   Time    Time     Time  Current\r\n",
      "                                 Dload  Upload   Total   Spent    Left  Speed\r\n",
      "100 12196  100 12196    0     0  21624      0 --:--:-- --:--:-- --:--:-- 21585\r\n",
      "x straingst/UMB11_01.tsv\r\n",
      "x straingst/UMB11_02.tsv\r\n",
      "x straingst/UMB11_03.1.tsv\r\n",
      "x straingst/UMB11_03.tsv\r\n",
      "x straingst/UMB11_04.1.tsv\r\n",
      "x straingst/UMB11_04.tsv\r\n",
      "x straingst/UMB11_05.tsv\r\n",
      "x straingst/UMB11_06.tsv\r\n",
      "x straingst/UMB11_07.tsv\r\n",
      "x straingst/UMB11_08.tsv\r\n",
      "x straingst/UMB11_11.tsv\r\n",
      "x straingst/UMB11_12.tsv\r\n",
      "x straingr/UMB11_01.tsv\r\n",
      "x straingr/UMB11_02.tsv\r\n",
      "x straingr/UMB11_03.1.tsv\r\n",
      "x straingr/UMB11_03.tsv\r\n",
      "x straingr/UMB11_04.1.tsv\r\n",
      "x straingr/UMB11_04.tsv\r\n",
      "x straingr/UMB11_05.tsv\r\n",
      "x straingr/UMB11_06.tsv\r\n",
      "x straingr/UMB11_07.tsv\r\n",
      "x straingr/UMB11_08.tsv\r\n",
      "x straingr/UMB11_11.tsv\r\n",
      "x straingr/UMB11_12.tsv\r\n",
      "x straingr/compare.summary.chrom.txt\r\n"
     ]
    }
   ],
   "source": [
    "!curl --output umb_data.tar.gz https://raw.githubusercontent.com/broadinstitute/strainge-paper/master/umb/umb_data.tar.gz\n",
    "!tar -xzvf umb_data.tar.gz"
   ]
  },
  {
   "cell_type": "markdown",
   "id": "22293b14-d66e-4183-b6da-5bcf3c8090b5",
   "metadata": {
    "pycharm": {
     "name": "#%% md\n"
    }
   },
   "source": [
    "### Import required modules\n"
   ]
  },
  {
   "cell_type": "code",
   "execution_count": 1,
   "outputs": [],
   "source": [
    "from pathlib import Path\n",
    "\n",
    "import numpy\n",
    "import pandas\n",
    "import matplotlib.pyplot as plt\n"
   ],
   "metadata": {
    "collapsed": false,
    "pycharm": {
     "name": "#%%\n"
    }
   }
  },
  {
   "cell_type": "markdown",
   "source": [
    "### StrainGST\n",
    "\n",
    "#### Read StrainGST outputs and combine it in a DataFrame\n",
    "\n",
    "The TSV files written by StrainGST contain both sample statistics (the first two lines), and statistics for each identified strain (see [StrainGST](straingst.md) page). In this tutorial, we are mainly interested in the identified strains. In the code below, when calling `pandas.read_csv`, we give the argument `skiprows=2` to skip the sample statistics.\n"
   ],
   "metadata": {
    "collapsed": false,
    "pycharm": {
     "name": "#%% md\n"
    }
   }
  },
  {
   "cell_type": "code",
   "execution_count": 4,
   "outputs": [
    {
     "data": {
      "text/plain": "                                                           i gkmers ikmers  \\\nsample     strain                                                            \nUMB11_11   Esch_coli_1190                                  0  48261  48248   \nUMB11_05   Esch_coli_1190                                  0  48261  48248   \nUMB11_06   Esch_coli_H3                                    0  45610  45560   \n           Esch_coli_1190                                  1  48261  21600   \nUMB11_12   Esch_coli_1190                                  0  48261  48235   \n           Esch_coli_26561                                 1  46249  19738   \nUMB11_07   Esch_coli_1190                                  0  48261  48237   \n           Esch_coli_f974b26a-5e81-11e8-bf7f-3c4a9275d6c8  1  47727  21265   \nUMB11_03   Esch_coli_1190                                  0  48261  48249   \nUMB11_02   Esch_coli_NGF1                                  0  49631  49623   \nUMB11_01   Esch_coli_NGF1                                  0  49631  49622   \nUMB11_03.1 Esch_coli_1190                                  0  48261  48254   \nUMB11_04.1 Esch_coli_1190                                  0  48261  48250   \nUMB11_08   Esch_coli_1190                                  0  48261  48248   \n\n                                                          skmers    cov  \\\nsample     strain                                                         \nUMB11_11   Esch_coli_1190                                  49462  0.920   \nUMB11_05   Esch_coli_1190                                  40411  0.775   \nUMB11_06   Esch_coli_H3                                    74449  0.960   \n           Esch_coli_1190                                  30714  0.794   \nUMB11_12   Esch_coli_1190                                  66509  0.941   \n           Esch_coli_26561                                 21112  0.853   \nUMB11_07   Esch_coli_1190                                  58276  0.854   \n           Esch_coli_f974b26a-5e81-11e8-bf7f-3c4a9275d6c8  17074  0.441   \nUMB11_03   Esch_coli_1190                                  37144  0.711   \nUMB11_02   Esch_coli_NGF1                                   5358  0.103   \nUMB11_01   Esch_coli_NGF1                                  50090  0.985   \nUMB11_03.1 Esch_coli_1190                                  31201  0.595   \nUMB11_04.1 Esch_coli_1190                                  19042  0.362   \nUMB11_08   Esch_coli_1190                                  31599  0.592   \n\n                                                              kcov     gcov  \\\nsample     strain                                                             \nUMB11_11   Esch_coli_1190                                    6.107    5.545   \nUMB11_05   Esch_coli_1190                                    2.741    2.097   \nUMB11_06   Esch_coli_H3                                    114.343  109.038   \n           Esch_coli_1190                                    7.102    5.565   \nUMB11_12   Esch_coli_1190                                    9.061    8.431   \n           Esch_coli_26561                                   4.773    3.983   \nUMB11_07   Esch_coli_1190                                    4.557    3.846   \n           Esch_coli_f974b26a-5e81-11e8-bf7f-3c4a9275d6c8    2.588    1.077   \nUMB11_03   Esch_coli_1190                                    2.814    1.975   \nUMB11_02   Esch_coli_NGF1                                    1.546    0.158   \nUMB11_01   Esch_coli_NGF1                                    7.009    6.831   \nUMB11_03.1 Esch_coli_1190                                    2.152    1.264   \nUMB11_04.1 Esch_coli_1190                                    1.870    0.668   \nUMB11_08   Esch_coli_1190                                    2.243    1.309   \n\n                                                            acct   even  \\\nsample     strain                                                         \nUMB11_11   Esch_coli_1190                                  0.920  0.923   \nUMB11_05   Esch_coli_1190                                  0.923  0.884   \nUMB11_06   Esch_coli_H3                                    0.921  0.960   \n           Esch_coli_1190                                  0.283  0.797   \nUMB11_12   Esch_coli_1190                                  0.800  0.941   \n           Esch_coli_26561                                 0.780  0.869   \nUMB11_07   Esch_coli_1190                                  0.803  0.873   \n           Esch_coli_f974b26a-5e81-11e8-bf7f-3c4a9275d6c8  0.526  0.668   \nUMB11_03   Esch_coli_1190                                  0.926  0.826   \nUMB11_02   Esch_coli_NGF1                                  0.932  0.707   \nUMB11_01   Esch_coli_NGF1                                  0.980  0.987   \nUMB11_03.1 Esch_coli_1190                                  0.918  0.830   \nUMB11_04.1 Esch_coli_1190                                  0.908  0.743   \nUMB11_08   Esch_coli_1190                                  0.904  0.810   \n\n                                                            spec   rapct  \\\nsample     strain                                                          \nUMB11_11   Esch_coli_1190                                  0.965   1.180   \nUMB11_05   Esch_coli_1190                                  0.967   0.484   \nUMB11_06   Esch_coli_H3                                    0.976  16.420   \n           Esch_coli_1190                                  0.552   1.005   \nUMB11_12   Esch_coli_1190                                  0.734   0.978   \n           Esch_coli_26561                                 0.968   1.548   \nUMB11_07   Esch_coli_1190                                  0.794   0.411   \n           Esch_coli_f974b26a-5e81-11e8-bf7f-3c4a9275d6c8  1.012   0.613   \nUMB11_03   Esch_coli_1190                                  0.972   0.395   \nUMB11_02   Esch_coli_NGF1                                  1.032   0.048   \nUMB11_01   Esch_coli_NGF1                                  1.000   1.536   \nUMB11_03.1 Esch_coli_1190                                  1.030   0.711   \nUMB11_04.1 Esch_coli_1190                                  1.047   0.135   \nUMB11_08   Esch_coli_1190                                  0.980   0.315   \n\n                                                           old_rapct  wscore  \\\nsample     strain                                                              \nUMB11_11   Esch_coli_1190                                      1.086   0.696   \nUMB11_05   Esch_coli_1190                                      0.447   0.540   \nUMB11_06   Esch_coli_H3                                       16.042   0.795   \n           Esch_coli_1190                                      0.391   0.079   \nUMB11_12   Esch_coli_1190                                      2.020   0.489   \n           Esch_coli_26561                                     0.395   0.486   \nUMB11_07   Esch_coli_1190                                      0.822   0.415   \n           Esch_coli_f974b26a-5e81-11e8-bf7f-3c4a9275d6c8      0.106   0.102   \nUMB11_03   Esch_coli_1190                                      0.366   0.437   \nUMB11_02   Esch_coli_NGF1                                      0.045   0.047   \nUMB11_01   Esch_coli_NGF1                                      1.505   0.940   \nUMB11_03.1 Esch_coli_1190                                      0.652   0.365   \nUMB11_04.1 Esch_coli_1190                                      0.122   0.173   \nUMB11_08   Esch_coli_1190                                      0.285   0.344   \n\n                                                           score  \nsample     strain                                                 \nUMB11_11   Esch_coli_1190                                  0.721  \nUMB11_05   Esch_coli_1190                                  0.558  \nUMB11_06   Esch_coli_H3                                    0.814  \n           Esch_coli_1190                                  0.142  \nUMB11_12   Esch_coli_1190                                  0.667  \n           Esch_coli_26561                                 0.502  \nUMB11_07   Esch_coli_1190                                  0.522  \n           Esch_coli_f974b26a-5e81-11e8-bf7f-3c4a9275d6c8  0.103  \nUMB11_03   Esch_coli_1190                                  0.449  \nUMB11_02   Esch_coli_NGF1                                  0.048  \nUMB11_01   Esch_coli_NGF1                                  0.940  \nUMB11_03.1 Esch_coli_1190                                  0.376  \nUMB11_04.1 Esch_coli_1190                                  0.182  \nUMB11_08   Esch_coli_1190                                  0.351  ",
      "text/html": "<div>\n<style scoped>\n    .dataframe tbody tr th:only-of-type {\n        vertical-align: middle;\n    }\n\n    .dataframe tbody tr th {\n        vertical-align: top;\n    }\n\n    .dataframe thead th {\n        text-align: right;\n    }\n</style>\n<table border=\"1\" class=\"dataframe\">\n  <thead>\n    <tr style=\"text-align: right;\">\n      <th></th>\n      <th></th>\n      <th>i</th>\n      <th>gkmers</th>\n      <th>ikmers</th>\n      <th>skmers</th>\n      <th>cov</th>\n      <th>kcov</th>\n      <th>gcov</th>\n      <th>acct</th>\n      <th>even</th>\n      <th>spec</th>\n      <th>rapct</th>\n      <th>old_rapct</th>\n      <th>wscore</th>\n      <th>score</th>\n    </tr>\n    <tr>\n      <th>sample</th>\n      <th>strain</th>\n      <th></th>\n      <th></th>\n      <th></th>\n      <th></th>\n      <th></th>\n      <th></th>\n      <th></th>\n      <th></th>\n      <th></th>\n      <th></th>\n      <th></th>\n      <th></th>\n      <th></th>\n      <th></th>\n    </tr>\n  </thead>\n  <tbody>\n    <tr>\n      <th>UMB11_11</th>\n      <th>Esch_coli_1190</th>\n      <td>0</td>\n      <td>48261</td>\n      <td>48248</td>\n      <td>49462</td>\n      <td>0.920</td>\n      <td>6.107</td>\n      <td>5.545</td>\n      <td>0.920</td>\n      <td>0.923</td>\n      <td>0.965</td>\n      <td>1.180</td>\n      <td>1.086</td>\n      <td>0.696</td>\n      <td>0.721</td>\n    </tr>\n    <tr>\n      <th>UMB11_05</th>\n      <th>Esch_coli_1190</th>\n      <td>0</td>\n      <td>48261</td>\n      <td>48248</td>\n      <td>40411</td>\n      <td>0.775</td>\n      <td>2.741</td>\n      <td>2.097</td>\n      <td>0.923</td>\n      <td>0.884</td>\n      <td>0.967</td>\n      <td>0.484</td>\n      <td>0.447</td>\n      <td>0.540</td>\n      <td>0.558</td>\n    </tr>\n    <tr>\n      <th rowspan=\"2\" valign=\"top\">UMB11_06</th>\n      <th>Esch_coli_H3</th>\n      <td>0</td>\n      <td>45610</td>\n      <td>45560</td>\n      <td>74449</td>\n      <td>0.960</td>\n      <td>114.343</td>\n      <td>109.038</td>\n      <td>0.921</td>\n      <td>0.960</td>\n      <td>0.976</td>\n      <td>16.420</td>\n      <td>16.042</td>\n      <td>0.795</td>\n      <td>0.814</td>\n    </tr>\n    <tr>\n      <th>Esch_coli_1190</th>\n      <td>1</td>\n      <td>48261</td>\n      <td>21600</td>\n      <td>30714</td>\n      <td>0.794</td>\n      <td>7.102</td>\n      <td>5.565</td>\n      <td>0.283</td>\n      <td>0.797</td>\n      <td>0.552</td>\n      <td>1.005</td>\n      <td>0.391</td>\n      <td>0.079</td>\n      <td>0.142</td>\n    </tr>\n    <tr>\n      <th rowspan=\"2\" valign=\"top\">UMB11_12</th>\n      <th>Esch_coli_1190</th>\n      <td>0</td>\n      <td>48261</td>\n      <td>48235</td>\n      <td>66509</td>\n      <td>0.941</td>\n      <td>9.061</td>\n      <td>8.431</td>\n      <td>0.800</td>\n      <td>0.941</td>\n      <td>0.734</td>\n      <td>0.978</td>\n      <td>2.020</td>\n      <td>0.489</td>\n      <td>0.667</td>\n    </tr>\n    <tr>\n      <th>Esch_coli_26561</th>\n      <td>1</td>\n      <td>46249</td>\n      <td>19738</td>\n      <td>21112</td>\n      <td>0.853</td>\n      <td>4.773</td>\n      <td>3.983</td>\n      <td>0.780</td>\n      <td>0.869</td>\n      <td>0.968</td>\n      <td>1.548</td>\n      <td>0.395</td>\n      <td>0.486</td>\n      <td>0.502</td>\n    </tr>\n    <tr>\n      <th rowspan=\"2\" valign=\"top\">UMB11_07</th>\n      <th>Esch_coli_1190</th>\n      <td>0</td>\n      <td>48261</td>\n      <td>48237</td>\n      <td>58276</td>\n      <td>0.854</td>\n      <td>4.557</td>\n      <td>3.846</td>\n      <td>0.803</td>\n      <td>0.873</td>\n      <td>0.794</td>\n      <td>0.411</td>\n      <td>0.822</td>\n      <td>0.415</td>\n      <td>0.522</td>\n    </tr>\n    <tr>\n      <th>Esch_coli_f974b26a-5e81-11e8-bf7f-3c4a9275d6c8</th>\n      <td>1</td>\n      <td>47727</td>\n      <td>21265</td>\n      <td>17074</td>\n      <td>0.441</td>\n      <td>2.588</td>\n      <td>1.077</td>\n      <td>0.526</td>\n      <td>0.668</td>\n      <td>1.012</td>\n      <td>0.613</td>\n      <td>0.106</td>\n      <td>0.102</td>\n      <td>0.103</td>\n    </tr>\n    <tr>\n      <th>UMB11_03</th>\n      <th>Esch_coli_1190</th>\n      <td>0</td>\n      <td>48261</td>\n      <td>48249</td>\n      <td>37144</td>\n      <td>0.711</td>\n      <td>2.814</td>\n      <td>1.975</td>\n      <td>0.926</td>\n      <td>0.826</td>\n      <td>0.972</td>\n      <td>0.395</td>\n      <td>0.366</td>\n      <td>0.437</td>\n      <td>0.449</td>\n    </tr>\n    <tr>\n      <th>UMB11_02</th>\n      <th>Esch_coli_NGF1</th>\n      <td>0</td>\n      <td>49631</td>\n      <td>49623</td>\n      <td>5358</td>\n      <td>0.103</td>\n      <td>1.546</td>\n      <td>0.158</td>\n      <td>0.932</td>\n      <td>0.707</td>\n      <td>1.032</td>\n      <td>0.048</td>\n      <td>0.045</td>\n      <td>0.047</td>\n      <td>0.048</td>\n    </tr>\n    <tr>\n      <th>UMB11_01</th>\n      <th>Esch_coli_NGF1</th>\n      <td>0</td>\n      <td>49631</td>\n      <td>49622</td>\n      <td>50090</td>\n      <td>0.985</td>\n      <td>7.009</td>\n      <td>6.831</td>\n      <td>0.980</td>\n      <td>0.987</td>\n      <td>1.000</td>\n      <td>1.536</td>\n      <td>1.505</td>\n      <td>0.940</td>\n      <td>0.940</td>\n    </tr>\n    <tr>\n      <th>UMB11_03.1</th>\n      <th>Esch_coli_1190</th>\n      <td>0</td>\n      <td>48261</td>\n      <td>48254</td>\n      <td>31201</td>\n      <td>0.595</td>\n      <td>2.152</td>\n      <td>1.264</td>\n      <td>0.918</td>\n      <td>0.830</td>\n      <td>1.030</td>\n      <td>0.711</td>\n      <td>0.652</td>\n      <td>0.365</td>\n      <td>0.376</td>\n    </tr>\n    <tr>\n      <th>UMB11_04.1</th>\n      <th>Esch_coli_1190</th>\n      <td>0</td>\n      <td>48261</td>\n      <td>48250</td>\n      <td>19042</td>\n      <td>0.362</td>\n      <td>1.870</td>\n      <td>0.668</td>\n      <td>0.908</td>\n      <td>0.743</td>\n      <td>1.047</td>\n      <td>0.135</td>\n      <td>0.122</td>\n      <td>0.173</td>\n      <td>0.182</td>\n    </tr>\n    <tr>\n      <th>UMB11_08</th>\n      <th>Esch_coli_1190</th>\n      <td>0</td>\n      <td>48261</td>\n      <td>48248</td>\n      <td>31599</td>\n      <td>0.592</td>\n      <td>2.243</td>\n      <td>1.309</td>\n      <td>0.904</td>\n      <td>0.810</td>\n      <td>0.980</td>\n      <td>0.315</td>\n      <td>0.285</td>\n      <td>0.344</td>\n      <td>0.351</td>\n    </tr>\n  </tbody>\n</table>\n</div>"
     },
     "execution_count": 4,
     "metadata": {},
     "output_type": "execute_result"
    }
   ],
   "source": [
    "STRAINGST_DIR = Path(\"straingst/\")\n",
    "\n",
    "df_list = []\n",
    "sample_names = []\n",
    "for f in STRAINGST_DIR.glob(\"*.tsv\"):\n",
    "    sample_name = f.stem\n",
    "    df = pandas.read_csv(f, sep='\\t', comment='#', skiprows=2, index_col=1)\n",
    "\n",
    "    df_list.append(df)\n",
    "    sample_names.append(sample_name)\n",
    "\n",
    "\n",
    "# Combine all StrainGST results from each sample into a single DataFrame.\n",
    "straingst_df = pandas.concat(df_list, keys=sample_names, names=[\"sample\"])\n",
    "\n",
    "sample_names = list(sorted(sample_names, key=lambda e: float(e.replace(\"UMB11_\", \"\"))))\n",
    "straingst_df"
   ],
   "metadata": {
    "collapsed": false,
    "pycharm": {
     "name": "#%%\n"
    }
   }
  },
  {
   "cell_type": "markdown",
   "source": [
    "#### Plot relative abundances\n"
   ],
   "metadata": {
    "collapsed": false,
    "pycharm": {
     "name": "#%% md\n"
    }
   }
  },
  {
   "cell_type": "code",
   "execution_count": 6,
   "outputs": [
    {
     "data": {
      "text/plain": "<Figure size 432x288 with 1 Axes>",
      "image/png": "[encoded data removed]"
     },
     "metadata": {
      "needs_background": "light"
     },
     "output_type": "display_data"
    }
   ],
   "source": [
    "plt.figure(figsize=(6, 4))\n",
    "\n",
    "strain_order = ['Esch_coli_1190', 'Esch_coli_H3', 'Esch_coli_NGF1', 'Esch_coli_f974b26a-5e81-11e8-bf7f-3c4a9275d6c8', \"Esch_coli_26561\"]\n",
    "strain_labels = ['1190', 'H3', 'NGF1', 'f974b26a...', \"26561\"]\n",
    "xlabels = [s.replace(\"UMB11_\", \"\") for s in sample_names]\n",
    "\n",
    "x = numpy.arange(len(sample_names))\n",
    "bottom = numpy.zeros((len(sample_names),))\n",
    "for ref, label in zip(strain_order, strain_labels):\n",
    "    # Create an array with all relative abundances for the current reference in each sample. If not available, set to zero.\n",
    "    rel_abun = numpy.array([\n",
    "        straingst_df.loc[(sample, ref), 'rapct'] if (sample, ref) in straingst_df.index else 0.0\n",
    "        for sample in sample_names\n",
    "    ])\n",
    "\n",
    "    plt.bar(x, rel_abun, bottom=bottom, tick_label=xlabels, label=label, width=0.8)\n",
    "    bottom += rel_abun\n",
    "\n",
    "plt.xlabel(\"Sample (time point)\")\n",
    "plt.ylabel(\"Relative abundance\")\n",
    "plt.gca().yaxis.set_major_formatter(\"{x:g}%\")\n",
    "plt.legend(title=\"Strain\", loc=\"center left\", bbox_to_anchor=(1.05, 0.5), ncol=2)\n",
    "\n",
    "plt.show()"
   ],
   "metadata": {
    "collapsed": false,
    "pycharm": {
     "name": "#%%\n"
    }
   }
  },
  {
   "cell_type": "markdown",
   "source": [
    "### StrainGR\n",
    "\n",
    "#### Load data in a DataFrame\n",
    "\n",
    "To load StrainGR outputs, we use a similar approach as descried above. In this case, the StrainGR TSV files can be directly loaded with pandas without `skiprows`.\n",
    "\n",
    "One thing to note, StrainGR outputs metrics for every contig in the concatenated reference used for alignment. The output file thus contains metrics for **contigs from strains that were not predicted to be present by StrainGST**. We use the presence/absence predictions of StrainGST as our \"truth\" and remove the contigs from strains that weren't present.\n",
    "\n",
    "We apply a few other filters, including removing plasmid contigs, and contigs with less coverage than 0.5x."
   ],
   "metadata": {
    "collapsed": false,
    "pycharm": {
     "name": "#%% md\n"
    }
   }
  },
  {
   "cell_type": "code",
   "execution_count": 12,
   "outputs": [
    {
     "data": {
      "text/plain": "                                                                    name  \\\nsample     ref                                                             \nUMB11_01   Esch_coli_NGF1                                  NZ_CP016007.1   \nUMB11_03   Esch_coli_1190                                  NZ_CP023386.1   \nUMB11_03.1 Esch_coli_1190                                  NZ_CP023386.1   \nUMB11_06   Esch_coli_1190                                  NZ_CP023386.1   \n           Esch_coli_H3                                    NZ_CP010167.1   \nUMB11_07   Esch_coli_1190                                  NZ_CP023386.1   \n           Esch_coli_f974b26a-5e81-11e8-bf7f-3c4a9275d6c8  NZ_LR536430.1   \nUMB11_08   Esch_coli_1190                                  NZ_CP023386.1   \nUMB11_11   Esch_coli_1190                                  NZ_CP023386.1   \n\n                                                            length  coverage  \\\nsample     ref                                                                 \nUMB11_01   Esch_coli_NGF1                                  5026105     3.549   \nUMB11_03   Esch_coli_1190                                  4900891     0.822   \nUMB11_03.1 Esch_coli_1190                                  4900891     0.596   \nUMB11_06   Esch_coli_1190                                  4900891     1.963   \n           Esch_coli_H3                                    4630919    47.519   \nUMB11_07   Esch_coli_1190                                  4900891     1.591   \n           Esch_coli_f974b26a-5e81-11e8-bf7f-3c4a9275d6c8  4975029     0.700   \nUMB11_08   Esch_coli_1190                                  4900891     0.580   \nUMB11_11   Esch_coli_1190                                  4900891     2.492   \n\n                                                            uReads  abundance  \\\nsample     ref                                                                  \nUMB11_01   Esch_coli_NGF1                                    85824      0.823   \nUMB11_03   Esch_coli_1190                                    35131      0.143   \nUMB11_03.1 Esch_coli_1190                                    24708      0.278   \nUMB11_06   Esch_coli_1190                                    69465      0.264   \n           Esch_coli_H3                                    1331869      7.902   \nUMB11_07   Esch_coli_1190                                    59112      0.347   \n           Esch_coli_f974b26a-5e81-11e8-bf7f-3c4a9275d6c8    14686      0.132   \nUMB11_08   Esch_coli_1190                                    24145      0.118   \nUMB11_11   Esch_coli_1190                                   106232      0.449   \n\n                                                           median  callable  \\\nsample     ref                                                                \nUMB11_01   Esch_coli_NGF1                                       3   2506998   \nUMB11_03   Esch_coli_1190                                       1    859998   \nUMB11_03.1 Esch_coli_1190                                       0    547015   \nUMB11_06   Esch_coli_1190                                       2   1515111   \n           Esch_coli_H3                                        48   3863102   \nUMB11_07   Esch_coli_1190                                       1   1894740   \n           Esch_coli_f974b26a-5e81-11e8-bf7f-3c4a9275d6c8       0    378975   \nUMB11_08   Esch_coli_1190                                       0    505713   \nUMB11_11   Esch_coli_1190                                       2   2819899   \n\n                                                           callablePct  \\\nsample     ref                                                           \nUMB11_01   Esch_coli_NGF1                                       49.880   \nUMB11_03   Esch_coli_1190                                       17.548   \nUMB11_03.1 Esch_coli_1190                                       11.162   \nUMB11_06   Esch_coli_1190                                       30.915   \n           Esch_coli_H3                                         83.420   \nUMB11_07   Esch_coli_1190                                       38.661   \n           Esch_coli_f974b26a-5e81-11e8-bf7f-3c4a9275d6c8        7.618   \nUMB11_08   Esch_coli_1190                                       10.319   \nUMB11_11   Esch_coli_1190                                       57.538   \n\n                                                           confirmed  \\\nsample     ref                                                         \nUMB11_01   Esch_coli_NGF1                                    2506921   \nUMB11_03   Esch_coli_1190                                     859671   \nUMB11_03.1 Esch_coli_1190                                     546816   \nUMB11_06   Esch_coli_1190                                    1513886   \n           Esch_coli_H3                                      3861892   \nUMB11_07   Esch_coli_1190                                    1893628   \n           Esch_coli_f974b26a-5e81-11e8-bf7f-3c4a9275d6c8     377743   \nUMB11_08   Esch_coli_1190                                     505494   \nUMB11_11   Esch_coli_1190                                    2818902   \n\n                                                           confirmedPct  ...  \\\nsample     ref                                                           ...   \nUMB11_01   Esch_coli_NGF1                                        99.997  ...   \nUMB11_03   Esch_coli_1190                                        99.962  ...   \nUMB11_03.1 Esch_coli_1190                                        99.964  ...   \nUMB11_06   Esch_coli_1190                                        99.919  ...   \n           Esch_coli_H3                                          99.969  ...   \nUMB11_07   Esch_coli_1190                                        99.941  ...   \n           Esch_coli_f974b26a-5e81-11e8-bf7f-3c4a9275d6c8        99.675  ...   \nUMB11_08   Esch_coli_1190                                        99.957  ...   \nUMB11_11   Esch_coli_1190                                        99.965  ...   \n\n                                                           multiPct    lowmq  \\\nsample     ref                                                                 \nUMB11_01   Esch_coli_NGF1                                     0.003  1668501   \nUMB11_03   Esch_coli_1190                                     0.001   160054   \nUMB11_03.1 Esch_coli_1190                                     0.001    99001   \nUMB11_06   Esch_coli_1190                                     0.015  1161951   \n           Esch_coli_H3                                       0.004  1439048   \nUMB11_07   Esch_coli_1190                                     0.010   323110   \n           Esch_coli_f974b26a-5e81-11e8-bf7f-3c4a9275d6c8     0.013   495996   \nUMB11_08   Esch_coli_1190                                     0.001   115822   \nUMB11_11   Esch_coli_1190                                     0.004   435239   \n\n                                                           lowmqPct    high  \\\nsample     ref                                                                \nUMB11_01   Esch_coli_NGF1                                    33.197    3681   \nUMB11_03   Esch_coli_1190                                     3.266      26   \nUMB11_03.1 Esch_coli_1190                                     2.020     114   \nUMB11_06   Esch_coli_1190                                    23.709  699045   \n           Esch_coli_H3                                      31.075   84996   \nUMB11_07   Esch_coli_1190                                     6.593    3384   \n           Esch_coli_f974b26a-5e81-11e8-bf7f-3c4a9275d6c8     9.970   17165   \nUMB11_08   Esch_coli_1190                                     2.363      64   \nUMB11_11   Esch_coli_1190                                     8.881     488   \n\n                                                           highPct  gapCount  \\\nsample     ref                                                                 \nUMB11_01   Esch_coli_NGF1                                    0.073         1   \nUMB11_03   Esch_coli_1190                                    0.001         9   \nUMB11_03.1 Esch_coli_1190                                    0.002         7   \nUMB11_06   Esch_coli_1190                                   14.264         9   \n           Esch_coli_H3                                      1.835         9   \nUMB11_07   Esch_coli_1190                                    0.069        12   \n           Esch_coli_f974b26a-5e81-11e8-bf7f-3c4a9275d6c8    0.345        17   \nUMB11_08   Esch_coli_1190                                    0.001         6   \nUMB11_11   Esch_coli_1190                                    0.010         9   \n\n                                                           gapLength  \\\nsample     ref                                                         \nUMB11_01   Esch_coli_NGF1                                      16868   \nUMB11_03   Esch_coli_1190                                     185085   \nUMB11_03.1 Esch_coli_1190                                     172806   \nUMB11_06   Esch_coli_1190                                     165099   \n           Esch_coli_H3                                       120001   \nUMB11_07   Esch_coli_1190                                     171056   \n           Esch_coli_f974b26a-5e81-11e8-bf7f-3c4a9275d6c8     347002   \nUMB11_08   Esch_coli_1190                                     158445   \nUMB11_11   Esch_coli_1190                                     165998   \n\n                                                           straingst_present  \\\nsample     ref                                                                 \nUMB11_01   Esch_coli_NGF1                                               True   \nUMB11_03   Esch_coli_1190                                               True   \nUMB11_03.1 Esch_coli_1190                                               True   \nUMB11_06   Esch_coli_1190                                               True   \n           Esch_coli_H3                                                 True   \nUMB11_07   Esch_coli_1190                                               True   \n           Esch_coli_f974b26a-5e81-11e8-bf7f-3c4a9275d6c8               True   \nUMB11_08   Esch_coli_1190                                               True   \nUMB11_11   Esch_coli_1190                                               True   \n\n                                                           is_plasmid  \\\nsample     ref                                                          \nUMB11_01   Esch_coli_NGF1                                       False   \nUMB11_03   Esch_coli_1190                                       False   \nUMB11_03.1 Esch_coli_1190                                       False   \nUMB11_06   Esch_coli_1190                                       False   \n           Esch_coli_H3                                         False   \nUMB11_07   Esch_coli_1190                                       False   \n           Esch_coli_f974b26a-5e81-11e8-bf7f-3c4a9275d6c8       False   \nUMB11_08   Esch_coli_1190                                       False   \nUMB11_11   Esch_coli_1190                                       False   \n\n                                                           enough_cov  \nsample     ref                                                         \nUMB11_01   Esch_coli_NGF1                                        True  \nUMB11_03   Esch_coli_1190                                        True  \nUMB11_03.1 Esch_coli_1190                                        True  \nUMB11_06   Esch_coli_1190                                        True  \n           Esch_coli_H3                                          True  \nUMB11_07   Esch_coli_1190                                        True  \n           Esch_coli_f974b26a-5e81-11e8-bf7f-3c4a9275d6c8        True  \nUMB11_08   Esch_coli_1190                                        True  \nUMB11_11   Esch_coli_1190                                        True  \n\n[9 rows x 23 columns]",
      "text/html": "<div>\n<style scoped>\n    .dataframe tbody tr th:only-of-type {\n        vertical-align: middle;\n    }\n\n    .dataframe tbody tr th {\n        vertical-align: top;\n    }\n\n    .dataframe thead th {\n        text-align: right;\n    }\n</style>\n<table border=\"1\" class=\"dataframe\">\n  <thead>\n    <tr style=\"text-align: right;\">\n      <th></th>\n      <th></th>\n      <th>name</th>\n      <th>length</th>\n      <th>coverage</th>\n      <th>uReads</th>\n      <th>abundance</th>\n      <th>median</th>\n      <th>callable</th>\n      <th>callablePct</th>\n      <th>confirmed</th>\n      <th>confirmedPct</th>\n      <th>...</th>\n      <th>multiPct</th>\n      <th>lowmq</th>\n      <th>lowmqPct</th>\n      <th>high</th>\n      <th>highPct</th>\n      <th>gapCount</th>\n      <th>gapLength</th>\n      <th>straingst_present</th>\n      <th>is_plasmid</th>\n      <th>enough_cov</th>\n    </tr>\n    <tr>\n      <th>sample</th>\n      <th>ref</th>\n      <th></th>\n      <th></th>\n      <th></th>\n      <th></th>\n      <th></th>\n      <th></th>\n      <th></th>\n      <th></th>\n      <th></th>\n      <th></th>\n      <th></th>\n      <th></th>\n      <th></th>\n      <th></th>\n      <th></th>\n      <th></th>\n      <th></th>\n      <th></th>\n      <th></th>\n      <th></th>\n      <th></th>\n    </tr>\n  </thead>\n  <tbody>\n    <tr>\n      <th>UMB11_01</th>\n      <th>Esch_coli_NGF1</th>\n      <td>NZ_CP016007.1</td>\n      <td>5026105</td>\n      <td>3.549</td>\n      <td>85824</td>\n      <td>0.823</td>\n      <td>3</td>\n      <td>2506998</td>\n      <td>49.880</td>\n      <td>2506921</td>\n      <td>99.997</td>\n      <td>...</td>\n      <td>0.003</td>\n      <td>1668501</td>\n      <td>33.197</td>\n      <td>3681</td>\n      <td>0.073</td>\n      <td>1</td>\n      <td>16868</td>\n      <td>True</td>\n      <td>False</td>\n      <td>True</td>\n    </tr>\n    <tr>\n      <th>UMB11_03</th>\n      <th>Esch_coli_1190</th>\n      <td>NZ_CP023386.1</td>\n      <td>4900891</td>\n      <td>0.822</td>\n      <td>35131</td>\n      <td>0.143</td>\n      <td>1</td>\n      <td>859998</td>\n      <td>17.548</td>\n      <td>859671</td>\n      <td>99.962</td>\n      <td>...</td>\n      <td>0.001</td>\n      <td>160054</td>\n      <td>3.266</td>\n      <td>26</td>\n      <td>0.001</td>\n      <td>9</td>\n      <td>185085</td>\n      <td>True</td>\n      <td>False</td>\n      <td>True</td>\n    </tr>\n    <tr>\n      <th>UMB11_03.1</th>\n      <th>Esch_coli_1190</th>\n      <td>NZ_CP023386.1</td>\n      <td>4900891</td>\n      <td>0.596</td>\n      <td>24708</td>\n      <td>0.278</td>\n      <td>0</td>\n      <td>547015</td>\n      <td>11.162</td>\n      <td>546816</td>\n      <td>99.964</td>\n      <td>...</td>\n      <td>0.001</td>\n      <td>99001</td>\n      <td>2.020</td>\n      <td>114</td>\n      <td>0.002</td>\n      <td>7</td>\n      <td>172806</td>\n      <td>True</td>\n      <td>False</td>\n      <td>True</td>\n    </tr>\n    <tr>\n      <th rowspan=\"2\" valign=\"top\">UMB11_06</th>\n      <th>Esch_coli_1190</th>\n      <td>NZ_CP023386.1</td>\n      <td>4900891</td>\n      <td>1.963</td>\n      <td>69465</td>\n      <td>0.264</td>\n      <td>2</td>\n      <td>1515111</td>\n      <td>30.915</td>\n      <td>1513886</td>\n      <td>99.919</td>\n      <td>...</td>\n      <td>0.015</td>\n      <td>1161951</td>\n      <td>23.709</td>\n      <td>699045</td>\n      <td>14.264</td>\n      <td>9</td>\n      <td>165099</td>\n      <td>True</td>\n      <td>False</td>\n      <td>True</td>\n    </tr>\n    <tr>\n      <th>Esch_coli_H3</th>\n      <td>NZ_CP010167.1</td>\n      <td>4630919</td>\n      <td>47.519</td>\n      <td>1331869</td>\n      <td>7.902</td>\n      <td>48</td>\n      <td>3863102</td>\n      <td>83.420</td>\n      <td>3861892</td>\n      <td>99.969</td>\n      <td>...</td>\n      <td>0.004</td>\n      <td>1439048</td>\n      <td>31.075</td>\n      <td>84996</td>\n      <td>1.835</td>\n      <td>9</td>\n      <td>120001</td>\n      <td>True</td>\n      <td>False</td>\n      <td>True</td>\n    </tr>\n    <tr>\n      <th rowspan=\"2\" valign=\"top\">UMB11_07</th>\n      <th>Esch_coli_1190</th>\n      <td>NZ_CP023386.1</td>\n      <td>4900891</td>\n      <td>1.591</td>\n      <td>59112</td>\n      <td>0.347</td>\n      <td>1</td>\n      <td>1894740</td>\n      <td>38.661</td>\n      <td>1893628</td>\n      <td>99.941</td>\n      <td>...</td>\n      <td>0.010</td>\n      <td>323110</td>\n      <td>6.593</td>\n      <td>3384</td>\n      <td>0.069</td>\n      <td>12</td>\n      <td>171056</td>\n      <td>True</td>\n      <td>False</td>\n      <td>True</td>\n    </tr>\n    <tr>\n      <th>Esch_coli_f974b26a-5e81-11e8-bf7f-3c4a9275d6c8</th>\n      <td>NZ_LR536430.1</td>\n      <td>4975029</td>\n      <td>0.700</td>\n      <td>14686</td>\n      <td>0.132</td>\n      <td>0</td>\n      <td>378975</td>\n      <td>7.618</td>\n      <td>377743</td>\n      <td>99.675</td>\n      <td>...</td>\n      <td>0.013</td>\n      <td>495996</td>\n      <td>9.970</td>\n      <td>17165</td>\n      <td>0.345</td>\n      <td>17</td>\n      <td>347002</td>\n      <td>True</td>\n      <td>False</td>\n      <td>True</td>\n    </tr>\n    <tr>\n      <th>UMB11_08</th>\n      <th>Esch_coli_1190</th>\n      <td>NZ_CP023386.1</td>\n      <td>4900891</td>\n      <td>0.580</td>\n      <td>24145</td>\n      <td>0.118</td>\n      <td>0</td>\n      <td>505713</td>\n      <td>10.319</td>\n      <td>505494</td>\n      <td>99.957</td>\n      <td>...</td>\n      <td>0.001</td>\n      <td>115822</td>\n      <td>2.363</td>\n      <td>64</td>\n      <td>0.001</td>\n      <td>6</td>\n      <td>158445</td>\n      <td>True</td>\n      <td>False</td>\n      <td>True</td>\n    </tr>\n    <tr>\n      <th>UMB11_11</th>\n      <th>Esch_coli_1190</th>\n      <td>NZ_CP023386.1</td>\n      <td>4900891</td>\n      <td>2.492</td>\n      <td>106232</td>\n      <td>0.449</td>\n      <td>2</td>\n      <td>2819899</td>\n      <td>57.538</td>\n      <td>2818902</td>\n      <td>99.965</td>\n      <td>...</td>\n      <td>0.004</td>\n      <td>435239</td>\n      <td>8.881</td>\n      <td>488</td>\n      <td>0.010</td>\n      <td>9</td>\n      <td>165998</td>\n      <td>True</td>\n      <td>False</td>\n      <td>True</td>\n    </tr>\n  </tbody>\n</table>\n<p>9 rows × 23 columns</p>\n</div>"
     },
     "execution_count": 12,
     "metadata": {},
     "output_type": "execute_result"
    }
   ],
   "source": [
    "STRAINGR_DIR = Path(\"straingr/\")\n",
    "\n",
    "df_list = []\n",
    "sample_names = []\n",
    "for f in STRAINGR_DIR.glob(\"*.tsv\"):\n",
    "    df = pandas.read_csv(f, sep='\\t', index_col=0)\n",
    "    df = df.drop(index='TOTAL')  # Remove TOTAL statistics\n",
    "\n",
    "    df_list.append(df)\n",
    "    sample_names.append(f.stem)\n",
    "\n",
    "straingr_df = pandas.concat(df_list, keys=sample_names, names=[\"sample\"])\n",
    "straingr_df['straingst_present'] = straingr_df.index.map(lambda ix: ix in straingst_df.index)\n",
    "straingr_df['is_plasmid'] = straingr_df['length'] < 4e6\n",
    "straingr_df['enough_cov'] = straingr_df['coverage'] > 0.5\n",
    "straingr_df = straingr_df[straingr_df['straingst_present'] & ~straingr_df['is_plasmid'] & straingr_df['enough_cov']].copy()\n",
    "straingr_df.sort_index()"
   ],
   "metadata": {
    "collapsed": false,
    "pycharm": {
     "name": "#%%\n"
    }
   }
  },
  {
   "cell_type": "code",
   "execution_count": null,
   "outputs": [],
   "source": [],
   "metadata": {
    "collapsed": false,
    "pycharm": {
     "name": "#%%\n"
    }
   }
  }
 ],
 "metadata": {
  "kernelspec": {
   "display_name": "Python 3 (ipykernel)",
   "language": "python",
   "name": "python3"
  },
  "language_info": {
   "codemirror_mode": {
    "name": "ipython",
    "version": 3
   },
   "file_extension": ".py",
   "mimetype": "text/x-python",
   "name": "python",
   "nbconvert_exporter": "python",
   "pygments_lexer": "ipython3",
   "version": "3.9.9"
  }
 },
 "nbformat": 4,
 "nbformat_minor": 5
}